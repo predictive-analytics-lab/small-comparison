{
 "cells": [
  {
   "cell_type": "code",
   "execution_count": 1,
   "metadata": {
    "collapsed": true
   },
   "outputs": [],
   "source": [
    "%matplotlib inline\n",
    "import plot_helpers as ph\n",
    "from plot_helpers import PlotDef, DataEntry"
   ]
  },
  {
   "cell_type": "code",
   "execution_count": 2,
   "metadata": {
    "collapsed": true
   },
   "outputs": [],
   "source": [
    "propublica_datafiles = [\n",
    "    ('../results/eq_opp_propublic_2018-06-14/propublica-recidivism_race_numerical-binsensitive_origin.csv', 'Propublica (race)'),\n",
    "    ('../results/eq_opp_propublic_2018-06-14/propublica-recidivism_sex_numerical-binsensitive_origin.csv', 'Propublica (sex)'),\n",
    "]"
   ]
  },
  {
   "cell_type": "code",
   "execution_count": 3,
   "metadata": {
    "collapsed": true
   },
   "outputs": [],
   "source": [
    "def label_change(label):\n",
    "    parts = label.split('_')\n",
    "    tnr0 = parts[6]\n",
    "    tnr1 = parts[8]\n",
    "    tpr = parts[10]\n",
    "    in_True = parts[4] == \"True\"\n",
    "    optional_star = \"*\" if in_True else \"\"\n",
    "    # return f\"EqOpp{optional_star} 1-TNR = {tnr1}\", True\n",
    "    return f\"1-TNR = {tnr1}\", True\n",
    "\n",
    "def filter_algos(label):\n",
    "    return (\"True\" in label) and (\"1.0\" not in label)\n",
    "\n",
    "data = ph.parse_all(propublica_datafiles, filter_algos, label_change)\n",
    "data = ph.merge_same_labels(data)"
   ]
  },
  {
   "cell_type": "code",
   "execution_count": 4,
   "metadata": {
    "collapsed": true
   },
   "outputs": [],
   "source": [
    "# reorder the entries\n",
    "#for i, d in enumerate(data):\n",
    "#    data[i] = d._replace(entries=d.entries[2:3] + d.entries[0:2])"
   ]
  },
  {
   "cell_type": "code",
   "execution_count": 5,
   "metadata": {},
   "outputs": [
    {
     "data": {
      "image/png": "[encoded data removed]",
      "text/plain": [
       "<matplotlib.figure.Figure at 0x10c637160>"
      ]
     },
     "metadata": {},
     "output_type": "display_data"
    }
   ],
   "source": [
    "xaxis = ('race-TPRDiff', 'race-TPRDiff')\n",
    "yaxis = ('accuracy', 'accuracy')\n",
    "fig, plots = ph.errorbox(data[:1], xaxis, yaxis, figsize=(3,3))\n",
    "plots[0, 0].set_ylim(0.62, 0.655)\n",
    "fig.savefig('eqopp_1tnr.eps', bbox_inches='tight')"
   ]
  },
  {
   "cell_type": "code",
   "execution_count": null,
   "metadata": {
    "collapsed": true
   },
   "outputs": [],
   "source": []
  }
 ],
 "metadata": {
  "kernelspec": {
   "display_name": "Python 3",
   "language": "python",
   "name": "python3"
  },
  "language_info": {
   "codemirror_mode": {
    "name": "ipython",
    "version": 3
   },
   "file_extension": ".py",
   "mimetype": "text/x-python",
   "name": "python",
   "nbconvert_exporter": "python",
   "pygments_lexer": "ipython3",
   "version": "3.6.3"
  }
 },
 "nbformat": 4,
 "nbformat_minor": 2
}
